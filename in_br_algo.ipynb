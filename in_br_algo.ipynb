{
  "nbformat": 4,
  "nbformat_minor": 0,
  "metadata": {
    "colab": {
      "provenance": []
    },
    "kernelspec": {
      "name": "python3",
      "display_name": "Python 3"
    },
    "language_info": {
      "name": "python"
    },
    "widgets": {
      "application/vnd.jupyter.widget-state+json": {
        "0acfef621c4b487184020fd992958469": {
          "model_module": "@jupyter-widgets/controls",
          "model_name": "HBoxModel",
          "model_module_version": "1.5.0",
          "state": {
            "_dom_classes": [],
            "_model_module": "@jupyter-widgets/controls",
            "_model_module_version": "1.5.0",
            "_model_name": "HBoxModel",
            "_view_count": null,
            "_view_module": "@jupyter-widgets/controls",
            "_view_module_version": "1.5.0",
            "_view_name": "HBoxView",
            "box_style": "",
            "children": [
              "IPY_MODEL_d45a5af1f6204e6e84f74c56c7a740ba",
              "IPY_MODEL_8be62944015f4cf9a8b27613d6bf843b",
              "IPY_MODEL_750689a1c817478fa85cb021db5aad36"
            ],
            "layout": "IPY_MODEL_7f78dfb4a09a48c19186482a52396851"
          }
        },
        "d45a5af1f6204e6e84f74c56c7a740ba": {
          "model_module": "@jupyter-widgets/controls",
          "model_name": "HTMLModel",
          "model_module_version": "1.5.0",
          "state": {
            "_dom_classes": [],
            "_model_module": "@jupyter-widgets/controls",
            "_model_module_version": "1.5.0",
            "_model_name": "HTMLModel",
            "_view_count": null,
            "_view_module": "@jupyter-widgets/controls",
            "_view_module_version": "1.5.0",
            "_view_name": "HTMLView",
            "description": "",
            "description_tooltip": null,
            "layout": "IPY_MODEL_5baab1505ae64c429da97e61da8cd037",
            "placeholder": "​",
            "style": "IPY_MODEL_133fc7069d864d41adee04fa3fbc4f79",
            "value": "Batches: 100%"
          }
        },
        "8be62944015f4cf9a8b27613d6bf843b": {
          "model_module": "@jupyter-widgets/controls",
          "model_name": "FloatProgressModel",
          "model_module_version": "1.5.0",
          "state": {
            "_dom_classes": [],
            "_model_module": "@jupyter-widgets/controls",
            "_model_module_version": "1.5.0",
            "_model_name": "FloatProgressModel",
            "_view_count": null,
            "_view_module": "@jupyter-widgets/controls",
            "_view_module_version": "1.5.0",
            "_view_name": "ProgressView",
            "bar_style": "success",
            "description": "",
            "description_tooltip": null,
            "layout": "IPY_MODEL_15d95ac0f1404ed988ce0cc339c39b45",
            "max": 16,
            "min": 0,
            "orientation": "horizontal",
            "style": "IPY_MODEL_5a1121d3bf8d41d0867e06d9319b4c9f",
            "value": 16
          }
        },
        "750689a1c817478fa85cb021db5aad36": {
          "model_module": "@jupyter-widgets/controls",
          "model_name": "HTMLModel",
          "model_module_version": "1.5.0",
          "state": {
            "_dom_classes": [],
            "_model_module": "@jupyter-widgets/controls",
            "_model_module_version": "1.5.0",
            "_model_name": "HTMLModel",
            "_view_count": null,
            "_view_module": "@jupyter-widgets/controls",
            "_view_module_version": "1.5.0",
            "_view_name": "HTMLView",
            "description": "",
            "description_tooltip": null,
            "layout": "IPY_MODEL_94c37d41308240e6bff8e4d7027ae92e",
            "placeholder": "​",
            "style": "IPY_MODEL_3918432d2a58433ab125af2170972902",
            "value": " 16/16 [01:20&lt;00:00,  4.22s/it]"
          }
        },
        "7f78dfb4a09a48c19186482a52396851": {
          "model_module": "@jupyter-widgets/base",
          "model_name": "LayoutModel",
          "model_module_version": "1.2.0",
          "state": {
            "_model_module": "@jupyter-widgets/base",
            "_model_module_version": "1.2.0",
            "_model_name": "LayoutModel",
            "_view_count": null,
            "_view_module": "@jupyter-widgets/base",
            "_view_module_version": "1.2.0",
            "_view_name": "LayoutView",
            "align_content": null,
            "align_items": null,
            "align_self": null,
            "border": null,
            "bottom": null,
            "display": null,
            "flex": null,
            "flex_flow": null,
            "grid_area": null,
            "grid_auto_columns": null,
            "grid_auto_flow": null,
            "grid_auto_rows": null,
            "grid_column": null,
            "grid_gap": null,
            "grid_row": null,
            "grid_template_areas": null,
            "grid_template_columns": null,
            "grid_template_rows": null,
            "height": null,
            "justify_content": null,
            "justify_items": null,
            "left": null,
            "margin": null,
            "max_height": null,
            "max_width": null,
            "min_height": null,
            "min_width": null,
            "object_fit": null,
            "object_position": null,
            "order": null,
            "overflow": null,
            "overflow_x": null,
            "overflow_y": null,
            "padding": null,
            "right": null,
            "top": null,
            "visibility": null,
            "width": null
          }
        },
        "5baab1505ae64c429da97e61da8cd037": {
          "model_module": "@jupyter-widgets/base",
          "model_name": "LayoutModel",
          "model_module_version": "1.2.0",
          "state": {
            "_model_module": "@jupyter-widgets/base",
            "_model_module_version": "1.2.0",
            "_model_name": "LayoutModel",
            "_view_count": null,
            "_view_module": "@jupyter-widgets/base",
            "_view_module_version": "1.2.0",
            "_view_name": "LayoutView",
            "align_content": null,
            "align_items": null,
            "align_self": null,
            "border": null,
            "bottom": null,
            "display": null,
            "flex": null,
            "flex_flow": null,
            "grid_area": null,
            "grid_auto_columns": null,
            "grid_auto_flow": null,
            "grid_auto_rows": null,
            "grid_column": null,
            "grid_gap": null,
            "grid_row": null,
            "grid_template_areas": null,
            "grid_template_columns": null,
            "grid_template_rows": null,
            "height": null,
            "justify_content": null,
            "justify_items": null,
            "left": null,
            "margin": null,
            "max_height": null,
            "max_width": null,
            "min_height": null,
            "min_width": null,
            "object_fit": null,
            "object_position": null,
            "order": null,
            "overflow": null,
            "overflow_x": null,
            "overflow_y": null,
            "padding": null,
            "right": null,
            "top": null,
            "visibility": null,
            "width": null
          }
        },
        "133fc7069d864d41adee04fa3fbc4f79": {
          "model_module": "@jupyter-widgets/controls",
          "model_name": "DescriptionStyleModel",
          "model_module_version": "1.5.0",
          "state": {
            "_model_module": "@jupyter-widgets/controls",
            "_model_module_version": "1.5.0",
            "_model_name": "DescriptionStyleModel",
            "_view_count": null,
            "_view_module": "@jupyter-widgets/base",
            "_view_module_version": "1.2.0",
            "_view_name": "StyleView",
            "description_width": ""
          }
        },
        "15d95ac0f1404ed988ce0cc339c39b45": {
          "model_module": "@jupyter-widgets/base",
          "model_name": "LayoutModel",
          "model_module_version": "1.2.0",
          "state": {
            "_model_module": "@jupyter-widgets/base",
            "_model_module_version": "1.2.0",
            "_model_name": "LayoutModel",
            "_view_count": null,
            "_view_module": "@jupyter-widgets/base",
            "_view_module_version": "1.2.0",
            "_view_name": "LayoutView",
            "align_content": null,
            "align_items": null,
            "align_self": null,
            "border": null,
            "bottom": null,
            "display": null,
            "flex": null,
            "flex_flow": null,
            "grid_area": null,
            "grid_auto_columns": null,
            "grid_auto_flow": null,
            "grid_auto_rows": null,
            "grid_column": null,
            "grid_gap": null,
            "grid_row": null,
            "grid_template_areas": null,
            "grid_template_columns": null,
            "grid_template_rows": null,
            "height": null,
            "justify_content": null,
            "justify_items": null,
            "left": null,
            "margin": null,
            "max_height": null,
            "max_width": null,
            "min_height": null,
            "min_width": null,
            "object_fit": null,
            "object_position": null,
            "order": null,
            "overflow": null,
            "overflow_x": null,
            "overflow_y": null,
            "padding": null,
            "right": null,
            "top": null,
            "visibility": null,
            "width": null
          }
        },
        "5a1121d3bf8d41d0867e06d9319b4c9f": {
          "model_module": "@jupyter-widgets/controls",
          "model_name": "ProgressStyleModel",
          "model_module_version": "1.5.0",
          "state": {
            "_model_module": "@jupyter-widgets/controls",
            "_model_module_version": "1.5.0",
            "_model_name": "ProgressStyleModel",
            "_view_count": null,
            "_view_module": "@jupyter-widgets/base",
            "_view_module_version": "1.2.0",
            "_view_name": "StyleView",
            "bar_color": null,
            "description_width": ""
          }
        },
        "94c37d41308240e6bff8e4d7027ae92e": {
          "model_module": "@jupyter-widgets/base",
          "model_name": "LayoutModel",
          "model_module_version": "1.2.0",
          "state": {
            "_model_module": "@jupyter-widgets/base",
            "_model_module_version": "1.2.0",
            "_model_name": "LayoutModel",
            "_view_count": null,
            "_view_module": "@jupyter-widgets/base",
            "_view_module_version": "1.2.0",
            "_view_name": "LayoutView",
            "align_content": null,
            "align_items": null,
            "align_self": null,
            "border": null,
            "bottom": null,
            "display": null,
            "flex": null,
            "flex_flow": null,
            "grid_area": null,
            "grid_auto_columns": null,
            "grid_auto_flow": null,
            "grid_auto_rows": null,
            "grid_column": null,
            "grid_gap": null,
            "grid_row": null,
            "grid_template_areas": null,
            "grid_template_columns": null,
            "grid_template_rows": null,
            "height": null,
            "justify_content": null,
            "justify_items": null,
            "left": null,
            "margin": null,
            "max_height": null,
            "max_width": null,
            "min_height": null,
            "min_width": null,
            "object_fit": null,
            "object_position": null,
            "order": null,
            "overflow": null,
            "overflow_x": null,
            "overflow_y": null,
            "padding": null,
            "right": null,
            "top": null,
            "visibility": null,
            "width": null
          }
        },
        "3918432d2a58433ab125af2170972902": {
          "model_module": "@jupyter-widgets/controls",
          "model_name": "DescriptionStyleModel",
          "model_module_version": "1.5.0",
          "state": {
            "_model_module": "@jupyter-widgets/controls",
            "_model_module_version": "1.5.0",
            "_model_name": "DescriptionStyleModel",
            "_view_count": null,
            "_view_module": "@jupyter-widgets/base",
            "_view_module_version": "1.2.0",
            "_view_name": "StyleView",
            "description_width": ""
          }
        },
        "df49c2a164a0441abd13e1e6856e5476": {
          "model_module": "@jupyter-widgets/controls",
          "model_name": "HBoxModel",
          "model_module_version": "1.5.0",
          "state": {
            "_dom_classes": [],
            "_model_module": "@jupyter-widgets/controls",
            "_model_module_version": "1.5.0",
            "_model_name": "HBoxModel",
            "_view_count": null,
            "_view_module": "@jupyter-widgets/controls",
            "_view_module_version": "1.5.0",
            "_view_name": "HBoxView",
            "box_style": "",
            "children": [
              "IPY_MODEL_bf8c161bba3f407ea073f984aa6317a5",
              "IPY_MODEL_25776608a78345ba941d35023a9c7349",
              "IPY_MODEL_87c4d44fa2ed4c4e979c9d39eab2f65a"
            ],
            "layout": "IPY_MODEL_ee37f57103574686aef167f18fb28d9a"
          }
        },
        "bf8c161bba3f407ea073f984aa6317a5": {
          "model_module": "@jupyter-widgets/controls",
          "model_name": "HTMLModel",
          "model_module_version": "1.5.0",
          "state": {
            "_dom_classes": [],
            "_model_module": "@jupyter-widgets/controls",
            "_model_module_version": "1.5.0",
            "_model_name": "HTMLModel",
            "_view_count": null,
            "_view_module": "@jupyter-widgets/controls",
            "_view_module_version": "1.5.0",
            "_view_name": "HTMLView",
            "description": "",
            "description_tooltip": null,
            "layout": "IPY_MODEL_191ab02f67fd49958159c4260cfdf0d0",
            "placeholder": "​",
            "style": "IPY_MODEL_ee1117bf4e894835b1bfbc297cc742e4",
            "value": "Batches: 100%"
          }
        },
        "25776608a78345ba941d35023a9c7349": {
          "model_module": "@jupyter-widgets/controls",
          "model_name": "FloatProgressModel",
          "model_module_version": "1.5.0",
          "state": {
            "_dom_classes": [],
            "_model_module": "@jupyter-widgets/controls",
            "_model_module_version": "1.5.0",
            "_model_name": "FloatProgressModel",
            "_view_count": null,
            "_view_module": "@jupyter-widgets/controls",
            "_view_module_version": "1.5.0",
            "_view_name": "ProgressView",
            "bar_style": "success",
            "description": "",
            "description_tooltip": null,
            "layout": "IPY_MODEL_42751f41eff847009412d18907c7d46e",
            "max": 16,
            "min": 0,
            "orientation": "horizontal",
            "style": "IPY_MODEL_447ce4681d8a4c61b191f294ec4c4332",
            "value": 16
          }
        },
        "87c4d44fa2ed4c4e979c9d39eab2f65a": {
          "model_module": "@jupyter-widgets/controls",
          "model_name": "HTMLModel",
          "model_module_version": "1.5.0",
          "state": {
            "_dom_classes": [],
            "_model_module": "@jupyter-widgets/controls",
            "_model_module_version": "1.5.0",
            "_model_name": "HTMLModel",
            "_view_count": null,
            "_view_module": "@jupyter-widgets/controls",
            "_view_module_version": "1.5.0",
            "_view_name": "HTMLView",
            "description": "",
            "description_tooltip": null,
            "layout": "IPY_MODEL_ac200b2cb9a8435eb11e43d4dcba5e45",
            "placeholder": "​",
            "style": "IPY_MODEL_00c33181f26a46e68f01bfd9678a2fc5",
            "value": " 16/16 [00:15&lt;00:00,  1.18it/s]"
          }
        },
        "ee37f57103574686aef167f18fb28d9a": {
          "model_module": "@jupyter-widgets/base",
          "model_name": "LayoutModel",
          "model_module_version": "1.2.0",
          "state": {
            "_model_module": "@jupyter-widgets/base",
            "_model_module_version": "1.2.0",
            "_model_name": "LayoutModel",
            "_view_count": null,
            "_view_module": "@jupyter-widgets/base",
            "_view_module_version": "1.2.0",
            "_view_name": "LayoutView",
            "align_content": null,
            "align_items": null,
            "align_self": null,
            "border": null,
            "bottom": null,
            "display": null,
            "flex": null,
            "flex_flow": null,
            "grid_area": null,
            "grid_auto_columns": null,
            "grid_auto_flow": null,
            "grid_auto_rows": null,
            "grid_column": null,
            "grid_gap": null,
            "grid_row": null,
            "grid_template_areas": null,
            "grid_template_columns": null,
            "grid_template_rows": null,
            "height": null,
            "justify_content": null,
            "justify_items": null,
            "left": null,
            "margin": null,
            "max_height": null,
            "max_width": null,
            "min_height": null,
            "min_width": null,
            "object_fit": null,
            "object_position": null,
            "order": null,
            "overflow": null,
            "overflow_x": null,
            "overflow_y": null,
            "padding": null,
            "right": null,
            "top": null,
            "visibility": null,
            "width": null
          }
        },
        "191ab02f67fd49958159c4260cfdf0d0": {
          "model_module": "@jupyter-widgets/base",
          "model_name": "LayoutModel",
          "model_module_version": "1.2.0",
          "state": {
            "_model_module": "@jupyter-widgets/base",
            "_model_module_version": "1.2.0",
            "_model_name": "LayoutModel",
            "_view_count": null,
            "_view_module": "@jupyter-widgets/base",
            "_view_module_version": "1.2.0",
            "_view_name": "LayoutView",
            "align_content": null,
            "align_items": null,
            "align_self": null,
            "border": null,
            "bottom": null,
            "display": null,
            "flex": null,
            "flex_flow": null,
            "grid_area": null,
            "grid_auto_columns": null,
            "grid_auto_flow": null,
            "grid_auto_rows": null,
            "grid_column": null,
            "grid_gap": null,
            "grid_row": null,
            "grid_template_areas": null,
            "grid_template_columns": null,
            "grid_template_rows": null,
            "height": null,
            "justify_content": null,
            "justify_items": null,
            "left": null,
            "margin": null,
            "max_height": null,
            "max_width": null,
            "min_height": null,
            "min_width": null,
            "object_fit": null,
            "object_position": null,
            "order": null,
            "overflow": null,
            "overflow_x": null,
            "overflow_y": null,
            "padding": null,
            "right": null,
            "top": null,
            "visibility": null,
            "width": null
          }
        },
        "ee1117bf4e894835b1bfbc297cc742e4": {
          "model_module": "@jupyter-widgets/controls",
          "model_name": "DescriptionStyleModel",
          "model_module_version": "1.5.0",
          "state": {
            "_model_module": "@jupyter-widgets/controls",
            "_model_module_version": "1.5.0",
            "_model_name": "DescriptionStyleModel",
            "_view_count": null,
            "_view_module": "@jupyter-widgets/base",
            "_view_module_version": "1.2.0",
            "_view_name": "StyleView",
            "description_width": ""
          }
        },
        "42751f41eff847009412d18907c7d46e": {
          "model_module": "@jupyter-widgets/base",
          "model_name": "LayoutModel",
          "model_module_version": "1.2.0",
          "state": {
            "_model_module": "@jupyter-widgets/base",
            "_model_module_version": "1.2.0",
            "_model_name": "LayoutModel",
            "_view_count": null,
            "_view_module": "@jupyter-widgets/base",
            "_view_module_version": "1.2.0",
            "_view_name": "LayoutView",
            "align_content": null,
            "align_items": null,
            "align_self": null,
            "border": null,
            "bottom": null,
            "display": null,
            "flex": null,
            "flex_flow": null,
            "grid_area": null,
            "grid_auto_columns": null,
            "grid_auto_flow": null,
            "grid_auto_rows": null,
            "grid_column": null,
            "grid_gap": null,
            "grid_row": null,
            "grid_template_areas": null,
            "grid_template_columns": null,
            "grid_template_rows": null,
            "height": null,
            "justify_content": null,
            "justify_items": null,
            "left": null,
            "margin": null,
            "max_height": null,
            "max_width": null,
            "min_height": null,
            "min_width": null,
            "object_fit": null,
            "object_position": null,
            "order": null,
            "overflow": null,
            "overflow_x": null,
            "overflow_y": null,
            "padding": null,
            "right": null,
            "top": null,
            "visibility": null,
            "width": null
          }
        },
        "447ce4681d8a4c61b191f294ec4c4332": {
          "model_module": "@jupyter-widgets/controls",
          "model_name": "ProgressStyleModel",
          "model_module_version": "1.5.0",
          "state": {
            "_model_module": "@jupyter-widgets/controls",
            "_model_module_version": "1.5.0",
            "_model_name": "ProgressStyleModel",
            "_view_count": null,
            "_view_module": "@jupyter-widgets/base",
            "_view_module_version": "1.2.0",
            "_view_name": "StyleView",
            "bar_color": null,
            "description_width": ""
          }
        },
        "ac200b2cb9a8435eb11e43d4dcba5e45": {
          "model_module": "@jupyter-widgets/base",
          "model_name": "LayoutModel",
          "model_module_version": "1.2.0",
          "state": {
            "_model_module": "@jupyter-widgets/base",
            "_model_module_version": "1.2.0",
            "_model_name": "LayoutModel",
            "_view_count": null,
            "_view_module": "@jupyter-widgets/base",
            "_view_module_version": "1.2.0",
            "_view_name": "LayoutView",
            "align_content": null,
            "align_items": null,
            "align_self": null,
            "border": null,
            "bottom": null,
            "display": null,
            "flex": null,
            "flex_flow": null,
            "grid_area": null,
            "grid_auto_columns": null,
            "grid_auto_flow": null,
            "grid_auto_rows": null,
            "grid_column": null,
            "grid_gap": null,
            "grid_row": null,
            "grid_template_areas": null,
            "grid_template_columns": null,
            "grid_template_rows": null,
            "height": null,
            "justify_content": null,
            "justify_items": null,
            "left": null,
            "margin": null,
            "max_height": null,
            "max_width": null,
            "min_height": null,
            "min_width": null,
            "object_fit": null,
            "object_position": null,
            "order": null,
            "overflow": null,
            "overflow_x": null,
            "overflow_y": null,
            "padding": null,
            "right": null,
            "top": null,
            "visibility": null,
            "width": null
          }
        },
        "00c33181f26a46e68f01bfd9678a2fc5": {
          "model_module": "@jupyter-widgets/controls",
          "model_name": "DescriptionStyleModel",
          "model_module_version": "1.5.0",
          "state": {
            "_model_module": "@jupyter-widgets/controls",
            "_model_module_version": "1.5.0",
            "_model_name": "DescriptionStyleModel",
            "_view_count": null,
            "_view_module": "@jupyter-widgets/base",
            "_view_module_version": "1.2.0",
            "_view_name": "StyleView",
            "description_width": ""
          }
        }
      }
    }
  },
  "cells": [
    {
      "cell_type": "code",
      "source": [
        "from google.colab import drive\n",
        "drive.mount('/content/drive')"
      ],
      "metadata": {
        "colab": {
          "base_uri": "https://localhost:8080/"
        },
        "id": "nQ3iWyF_vWYs",
        "outputId": "d8d52295-bc85-41a1-bdcb-a594026a45ee"
      },
      "execution_count": 2,
      "outputs": [
        {
          "output_type": "stream",
          "name": "stdout",
          "text": [
            "Mounted at /content/drive\n"
          ]
        }
      ]
    },
    {
      "cell_type": "code",
      "source": [
        "cd drive/MyDrive/\n"
      ],
      "metadata": {
        "colab": {
          "base_uri": "https://localhost:8080/"
        },
        "id": "sK7rqUjBvjxh",
        "outputId": "527beb24-3b77-42e8-c08b-3573a37b87b0"
      },
      "execution_count": 4,
      "outputs": [
        {
          "output_type": "stream",
          "name": "stdout",
          "text": [
            "/content/drive/MyDrive\n"
          ]
        }
      ]
    },
    {
      "cell_type": "code",
      "source": [
        "!pip install -q sentence-transformers pandas numpy\n",
        "\n",
        "import pandas as pd\n",
        "import numpy as np\n",
        "import json\n",
        "from sentence_transformers import SentenceTransformer\n",
        "\n"
      ],
      "metadata": {
        "colab": {
          "base_uri": "https://localhost:8080/"
        },
        "id": "aI7D8fccv0X6",
        "outputId": "2e6fd376-cc29-4603-bea5-41c38fb8d817"
      },
      "execution_count": 5,
      "outputs": [
        {
          "output_type": "stream",
          "name": "stdout",
          "text": [
            "\u001b[2K   \u001b[90m━━━━━━━━━━━━━━━━━━━━━━━━━━━━━━━━━━━━━━━━\u001b[0m \u001b[32m211.5/211.5 MB\u001b[0m \u001b[31m5.6 MB/s\u001b[0m eta \u001b[36m0:00:00\u001b[0m\n",
            "\u001b[2K   \u001b[90m━━━━━━━━━━━━━━━━━━━━━━━━━━━━━━━━━━━━━━━━\u001b[0m \u001b[32m56.3/56.3 MB\u001b[0m \u001b[31m17.9 MB/s\u001b[0m eta \u001b[36m0:00:00\u001b[0m\n",
            "\u001b[2K   \u001b[90m━━━━━━━━━━━━━━━━━━━━━━━━━━━━━━━━━━━━━━━━\u001b[0m \u001b[32m127.9/127.9 MB\u001b[0m \u001b[31m7.8 MB/s\u001b[0m eta \u001b[36m0:00:00\u001b[0m\n",
            "\u001b[2K   \u001b[90m━━━━━━━━━━━━━━━━━━━━━━━━━━━━━━━━━━━━━━━━\u001b[0m \u001b[32m207.5/207.5 MB\u001b[0m \u001b[31m7.5 MB/s\u001b[0m eta \u001b[36m0:00:00\u001b[0m\n",
            "\u001b[2K   \u001b[90m━━━━━━━━━━━━━━━━━━━━━━━━━━━━━━━━━━━━━━━━\u001b[0m \u001b[32m21.1/21.1 MB\u001b[0m \u001b[31m60.7 MB/s\u001b[0m eta \u001b[36m0:00:00\u001b[0m\n",
            "\u001b[?25h"
          ]
        }
      ]
    },
    {
      "cell_type": "code",
      "source": [
        "# Load brand campaigns\n",
        "with open('/content/drive/MyDrive/indian_synthetic_brands.json', 'r') as f:\n",
        "    brands_json = json.load(f)\n",
        "brands_df = pd.DataFrame(brands_json)\n",
        "\n",
        "# Load influencer profiles\n",
        "with open('/content/drive/MyDrive/indian_synthetic_influencer_profiles.json', 'r') as f:\n",
        "    infl_json = json.load(f)\n",
        "influencers_df = pd.DataFrame(infl_json)\n"
      ],
      "metadata": {
        "id": "3h37fv3lv6pv"
      },
      "execution_count": 6,
      "outputs": []
    },
    {
      "cell_type": "code",
      "source": [
        "def brand_text(row):\n",
        "    fields = [\n",
        "        row.get('title', ''),\n",
        "        row.get('description', ''),\n",
        "        row.get('category', ''),\n",
        "        ' '.join(row.get('platforms', [])),\n",
        "        str(row.get('budget', '')),\n",
        "        str(row.get('targetAudience', '')),\n",
        "        str(row.get('requirements', '')),\n",
        "        str(row.get('metadata', ''))\n",
        "    ]\n",
        "    return ' | '.join(str(f) for f in fields if f)\n",
        "\n",
        "def influencer_text(row):\n",
        "    fields = [\n",
        "        row.get('name', ''),\n",
        "        row.get('bio', ''),\n",
        "        ', '.join(row.get('categories', [])),\n",
        "        ', '.join(row.get('platforms', [])),\n",
        "        str(row.get('location', '')),\n",
        "        ', '.join(row.get('languages', [])),\n",
        "        str(row.get('age', '')),\n",
        "        str(row.get('gender', '')),\n",
        "        ', '.join(row.get('brandCollabs', [])),\n",
        "        str(row.get('experienceLevel', ''))\n",
        "    ]\n",
        "    return ' | '.join(str(f) for f in fields if f)\n"
      ],
      "metadata": {
        "id": "D6oRfXPgwbct"
      },
      "execution_count": 7,
      "outputs": []
    },
    {
      "cell_type": "code",
      "source": [
        "model = SentenceTransformer('all-MiniLM-L6-v2')\n",
        "\n",
        "# Embeddings for brands\n",
        "brands_df['embedding_text'] = brands_df.apply(brand_text, axis=1)\n",
        "brand_embeddings = model.encode(brands_df['embedding_text'].tolist(), show_progress_bar=True)\n",
        "brand_embeddings = np.array(brand_embeddings).astype('float32')\n",
        "\n",
        "# Embeddings for influencers\n",
        "influencers_df['embedding_text'] = influencers_df.apply(influencer_text, axis=1)\n",
        "influencer_embeddings = model.encode(influencers_df['embedding_text'].tolist(), show_progress_bar=True)\n",
        "influencer_embeddings = np.array(influencer_embeddings).astype('float32')\n"
      ],
      "metadata": {
        "colab": {
          "base_uri": "https://localhost:8080/",
          "height": 81,
          "referenced_widgets": [
            "0acfef621c4b487184020fd992958469",
            "d45a5af1f6204e6e84f74c56c7a740ba",
            "8be62944015f4cf9a8b27613d6bf843b",
            "750689a1c817478fa85cb021db5aad36",
            "7f78dfb4a09a48c19186482a52396851",
            "5baab1505ae64c429da97e61da8cd037",
            "133fc7069d864d41adee04fa3fbc4f79",
            "15d95ac0f1404ed988ce0cc339c39b45",
            "5a1121d3bf8d41d0867e06d9319b4c9f",
            "94c37d41308240e6bff8e4d7027ae92e",
            "3918432d2a58433ab125af2170972902",
            "df49c2a164a0441abd13e1e6856e5476",
            "bf8c161bba3f407ea073f984aa6317a5",
            "25776608a78345ba941d35023a9c7349",
            "87c4d44fa2ed4c4e979c9d39eab2f65a",
            "ee37f57103574686aef167f18fb28d9a",
            "191ab02f67fd49958159c4260cfdf0d0",
            "ee1117bf4e894835b1bfbc297cc742e4",
            "42751f41eff847009412d18907c7d46e",
            "447ce4681d8a4c61b191f294ec4c4332",
            "ac200b2cb9a8435eb11e43d4dcba5e45",
            "00c33181f26a46e68f01bfd9678a2fc5"
          ]
        },
        "id": "bAY1oZ4pwbm8",
        "outputId": "0f655a3c-5f45-4ee1-d63c-5b42a45c9574"
      },
      "execution_count": 9,
      "outputs": [
        {
          "output_type": "display_data",
          "data": {
            "text/plain": [
              "Batches:   0%|          | 0/16 [00:00<?, ?it/s]"
            ],
            "application/vnd.jupyter.widget-view+json": {
              "version_major": 2,
              "version_minor": 0,
              "model_id": "0acfef621c4b487184020fd992958469"
            }
          },
          "metadata": {}
        },
        {
          "output_type": "display_data",
          "data": {
            "text/plain": [
              "Batches:   0%|          | 0/16 [00:00<?, ?it/s]"
            ],
            "application/vnd.jupyter.widget-view+json": {
              "version_major": 2,
              "version_minor": 0,
              "model_id": "df49c2a164a0441abd13e1e6856e5476"
            }
          },
          "metadata": {}
        }
      ]
    },
    {
      "cell_type": "code",
      "source": [
        "def match_brands_for_influencer(\n",
        "        influencer_idx,\n",
        "        influencer_embeddings,\n",
        "        brand_embeddings,\n",
        "        brands_df,\n",
        "        top_k=5\n",
        "    ):\n",
        "    \"\"\"\n",
        "    Returns the top-k brands best matched to an influencer, by semantic similarity.\n",
        "    \"\"\"\n",
        "    infl_vec = influencer_embeddings[influencer_idx]\n",
        "    brand_norms = np.linalg.norm(brand_embeddings, axis=1)\n",
        "    infl_norm = np.linalg.norm(infl_vec)\n",
        "    cosine_similarities = np.dot(brand_embeddings, infl_vec) / (brand_norms * infl_norm + 1e-10)\n",
        "    top_indices = np.argsort(cosine_similarities)[::-1][:top_k]\n",
        "    return brands_df.iloc[top_indices].reset_index(drop=True)\n"
      ],
      "metadata": {
        "id": "b9fXrxvlwdwD"
      },
      "execution_count": 10,
      "outputs": []
    },
    {
      "cell_type": "code",
      "source": [
        "# Choose any influencer by row number\n",
        "influencer_idx = 0  # (or use a search/filter to pick a specific influencer)\n",
        "matched_brands = match_brands_for_influencer(\n",
        "    influencer_idx=influencer_idx,\n",
        "    influencer_embeddings=influencer_embeddings,\n",
        "    brand_embeddings=brand_embeddings,\n",
        "    brands_df=brands_df,\n",
        "    top_k=5  # how many matches you want\n",
        ")\n",
        "\n",
        "# Choose columns to show (adjust for your dataset)\n",
        "display_cols = ['title', 'description', 'category', 'budget', 'targetAudience']\n",
        "print(f\"\\nTop Brand Matches for Influencer '{influencers_df.iloc[influencer_idx]['name']}'\")\n",
        "print(matched_brands[display_cols])\n"
      ],
      "metadata": {
        "colab": {
          "base_uri": "https://localhost:8080/"
        },
        "id": "Z0NSPKfFxdWk",
        "outputId": "33c9a7fa-55e5-4717-92df-28a381767ea1"
      },
      "execution_count": 11,
      "outputs": [
        {
          "output_type": "stream",
          "name": "stdout",
          "text": [
            "\n",
            "Top Brand Matches for Influencer 'Simran Kaur'\n",
            "                         title                             description  \\\n",
            "0                  Morris-Sims        Secured demand-driven moratorium   \n",
            "1              Moreno and Sons               Operative mobile approach   \n",
            "2     Camacho, Wells and Keith  Phased exuding artificial intelligence   \n",
            "3      Kim, Gonzales and Mills                  Diverse high-level hub   \n",
            "4  Johnston, Griffin and Myers        Visionary systematic parallelism   \n",
            "\n",
            "  category                                          budget  \\\n",
            "0   Travel  {'min': 1647, 'max': 23242, 'currency': 'INR'}   \n",
            "1  Fitness  {'min': 2583, 'max': 45033, 'currency': 'INR'}   \n",
            "2   Gaming  {'min': 3307, 'max': 34719, 'currency': 'INR'}   \n",
            "3  Fitness   {'min': 732, 'max': 10324, 'currency': 'INR'}   \n",
            "4   Beauty   {'min': 753, 'max': 33268, 'currency': 'INR'}   \n",
            "\n",
            "                                      targetAudience  \n",
            "0  {'ageRange': {'min': 22, 'max': 55}, 'gender':...  \n",
            "1  {'ageRange': {'min': 21, 'max': 42}, 'gender':...  \n",
            "2  {'ageRange': {'min': 19, 'max': 44}, 'gender':...  \n",
            "3  {'ageRange': {'min': 18, 'max': 46}, 'gender':...  \n",
            "4  {'ageRange': {'min': 20, 'max': 57}, 'gender':...  \n"
          ]
        }
      ]
    },
    {
      "cell_type": "code",
      "source": [],
      "metadata": {
        "id": "IUAQMpLbxge6"
      },
      "execution_count": null,
      "outputs": []
    }
  ]
}